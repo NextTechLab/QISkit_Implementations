{
 "cells": [
  {
   "cell_type": "markdown",
   "metadata": {},
   "source": [
    "# Deutsch Oracle\n",
    "Black-Box program that performs some unknown function."
   ]
  },
  {
   "cell_type": "code",
   "execution_count": 149,
   "metadata": {},
   "outputs": [],
   "source": [
    "# useful additional packages \n",
    "import matplotlib.pyplot as plt\n",
    "%matplotlib inline\n",
    "import numpy as np\n",
    "# importing Qiskit\n",
    "from qiskit import QuantumCircuit, QuantumRegister, ClassicalRegister\n",
    "from qiskit import Aer, IBMQ, execute\n",
    "\n",
    "# import basic plot tools\n",
    "from qiskit.tools.visualization import matplotlib_circuit_drawer as circuit_drawer\n",
    "from qiskit.tools.visualization import plot_histogram, qx_color_scheme"
   ]
  },
  {
   "cell_type": "markdown",
   "metadata": {},
   "source": [
    "### <center>Identity Function</center>\n",
    "\\begin{equation*}\n",
    "f(x) = x\n",
    "\\end{equation*}"
   ]
  },
  {
   "cell_type": "code",
   "execution_count": 136,
   "metadata": {},
   "outputs": [],
   "source": [
    "def identity(q,BB): \n",
    "    \"\"\"Returns Identity Function\n",
    "    Qin = Input Qbit\n",
    "    Qout = Out Qbit\n",
    "    BB = Q Circuit\n",
    "    \"\"\"\n",
    "    BB.cx(q[0],q[1])"
   ]
  },
  {
   "cell_type": "markdown",
   "metadata": {},
   "source": [
    "### Constant 1\n",
    "\\begin{equation*}\n",
    "f(x) = 1\n",
    "\\end{equation*}"
   ]
  },
  {
   "cell_type": "code",
   "execution_count": 137,
   "metadata": {},
   "outputs": [],
   "source": [
    "def con1(q,BB):   \n",
    "    \"\"\"Returns 1\n",
    "    \"\"\"\n",
    "    BB.x(q[1])"
   ]
  },
  {
   "cell_type": "markdown",
   "metadata": {},
   "source": [
    "### <center>Bit Flip</center>\n",
    "\\begin{equation*}\n",
    "f(x)  = \\overline{x}\n",
    "\\end{equation*}"
   ]
  },
  {
   "cell_type": "code",
   "execution_count": 138,
   "metadata": {},
   "outputs": [],
   "source": [
    "def BitFlip(q,BB):\n",
    "    \"\"\"Returns complement\\n\n",
    "    \"\"\"\n",
    "    BB.cx(q[0],q[1])\n",
    "    BB.x(q[1])"
   ]
  },
  {
   "cell_type": "code",
   "execution_count": 200,
   "metadata": {},
   "outputs": [],
   "source": [
    "def BlackBox(inp):\n",
    "    # Creating registers\n",
    "    q = QuantumRegister(2)\n",
    "    t = ClassicalRegister(2) \n",
    "    BB = QuantumCircuit(q, t)\n",
    "    BB.x(q[0])\n",
    "    BB.x(q[1])\n",
    "    BB.h(q[0])\n",
    "    BB.h(q[1])\n",
    "    if(inp == \"bf\"):\n",
    "        BitFlip(q,BB)\n",
    "    elif(inp == \"id\"):\n",
    "        identity(q,BB)\n",
    "    elif(inp==\"con1\"):\n",
    "        con1(q,BB)\n",
    "    BB.h(q[0])\n",
    "    BB.h(q[1])\n",
    "    BB.measure(q[0],t[0])\n",
    "    BB.measure(q[1],t[1])\n",
    "    return BB"
   ]
  },
  {
   "cell_type": "code",
   "execution_count": 218,
   "metadata": {},
   "outputs": [
    {
     "name": "stderr",
     "output_type": "stream",
     "text": [
      "C:\\Users\\Vinu\\Anaconda3\\envs\\QISKitenv\\lib\\site-packages\\qiskit\\tools\\visualization\\_circuit_visualization.py:544: DeprecationWarning: The matplotlib_circuit_drawer() function is deprecated and will be removed in a future release. Instead use the circuit_drawer() function with the `output` kwarg set to `mpl`.\n",
      "  '`mpl`.', DeprecationWarning)\n"
     ]
    },
    {
     "data": {
      "image/png": "[encoded data removed]",
      "text/plain": [
       "<Figure size 662.2x258.86 with 1 Axes>"
      ]
     },
     "execution_count": 218,
     "metadata": {},
     "output_type": "execute_result"
    }
   ],
   "source": [
    "BB = BlackBox(\"bf\")\n",
    "circuit_drawer(BB,style=qx_color_scheme())"
   ]
  },
  {
   "cell_type": "code",
   "execution_count": 219,
   "metadata": {},
   "outputs": [],
   "source": [
    "local_backend = Aer.get_backend('qasm_simulator') \n",
    "BB_j = execute(BB, local_backend) \n",
    "BB_j = BB_j.result()\n",
    "data = BB_j.get_counts(BB)"
   ]
  },
  {
   "cell_type": "code",
   "execution_count": 220,
   "metadata": {},
   "outputs": [
    {
     "name": "stdout",
     "output_type": "stream",
     "text": [
      "{'10': 1024}\n"
     ]
    }
   ],
   "source": [
    "print(data)"
   ]
  }
 ],
 "metadata": {
  "kernelspec": {
   "display_name": "Python 3",
   "language": "python",
   "name": "python3"
  },
  "language_info": {
   "codemirror_mode": {
    "name": "ipython",
    "version": 3
   },
   "file_extension": ".py",
   "mimetype": "text/x-python",
   "name": "python",
   "nbconvert_exporter": "python",
   "pygments_lexer": "ipython3",
   "version": "3.7.2"
  }
 },
 "nbformat": 4,
 "nbformat_minor": 2
}
